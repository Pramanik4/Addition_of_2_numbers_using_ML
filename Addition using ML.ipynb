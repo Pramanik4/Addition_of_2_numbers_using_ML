{
 "cells": [
  {
   "cell_type": "markdown",
   "id": "f435c6b0",
   "metadata": {},
   "source": [
    "# Addition of two numbers using ML"
   ]
  },
  {
   "cell_type": "code",
   "execution_count": 20,
   "id": "08798de3",
   "metadata": {},
   "outputs": [],
   "source": [
    "import pandas as pd\n",
    "from sklearn.model_selection import train_test_split\n",
    "from sklearn.linear_model import LinearRegression\n",
    "from sklearn.metrics import accuracy_score"
   ]
  },
  {
   "cell_type": "code",
   "execution_count": 21,
   "id": "2cb4ee91",
   "metadata": {},
   "outputs": [],
   "source": [
    "df = pd.read_csv(\"add.csv\")"
   ]
  },
  {
   "cell_type": "code",
   "execution_count": 22,
   "id": "520b82d0",
   "metadata": {},
   "outputs": [
    {
     "data": {
      "text/html": [
       "<div>\n",
       "<style scoped>\n",
       "    .dataframe tbody tr th:only-of-type {\n",
       "        vertical-align: middle;\n",
       "    }\n",
       "\n",
       "    .dataframe tbody tr th {\n",
       "        vertical-align: top;\n",
       "    }\n",
       "\n",
       "    .dataframe thead th {\n",
       "        text-align: right;\n",
       "    }\n",
       "</style>\n",
       "<table border=\"1\" class=\"dataframe\">\n",
       "  <thead>\n",
       "    <tr style=\"text-align: right;\">\n",
       "      <th></th>\n",
       "      <th>num_1</th>\n",
       "      <th>num_2</th>\n",
       "      <th>sum</th>\n",
       "    </tr>\n",
       "  </thead>\n",
       "  <tbody>\n",
       "    <tr>\n",
       "      <th>0</th>\n",
       "      <td>2.0</td>\n",
       "      <td>5.0</td>\n",
       "      <td>7.0</td>\n",
       "    </tr>\n",
       "    <tr>\n",
       "      <th>1</th>\n",
       "      <td>4.0</td>\n",
       "      <td>9.0</td>\n",
       "      <td>13.0</td>\n",
       "    </tr>\n",
       "    <tr>\n",
       "      <th>2</th>\n",
       "      <td>1.0</td>\n",
       "      <td>4.0</td>\n",
       "      <td>5.0</td>\n",
       "    </tr>\n",
       "    <tr>\n",
       "      <th>3</th>\n",
       "      <td>3.0</td>\n",
       "      <td>7.0</td>\n",
       "      <td>10.0</td>\n",
       "    </tr>\n",
       "    <tr>\n",
       "      <th>4</th>\n",
       "      <td>5.0</td>\n",
       "      <td>12.0</td>\n",
       "      <td>17.0</td>\n",
       "    </tr>\n",
       "  </tbody>\n",
       "</table>\n",
       "</div>"
      ],
      "text/plain": [
       "   num_1  num_2   sum\n",
       "0    2.0    5.0   7.0\n",
       "1    4.0    9.0  13.0\n",
       "2    1.0    4.0   5.0\n",
       "3    3.0    7.0  10.0\n",
       "4    5.0   12.0  17.0"
      ]
     },
     "execution_count": 22,
     "metadata": {},
     "output_type": "execute_result"
    }
   ],
   "source": [
    "df.head()"
   ]
  },
  {
   "cell_type": "code",
   "execution_count": 23,
   "id": "2c5f37b7",
   "metadata": {},
   "outputs": [],
   "source": [
    "# separate it as feature and targets\n",
    "X = df[['num_1','num_2']]\n",
    "Y = df['sum']"
   ]
  },
  {
   "cell_type": "code",
   "execution_count": 24,
   "id": "6efdce90",
   "metadata": {},
   "outputs": [
    {
     "name": "stdout",
     "output_type": "stream",
     "text": [
      "     num_1  num_2\n",
      "0      2.0    5.0\n",
      "1      4.0    9.0\n",
      "2      1.0    4.0\n",
      "3      3.0    7.0\n",
      "4      5.0   12.0\n",
      "5      9.0    9.0\n",
      "6      8.0   31.0\n",
      "7      1.2   25.0\n",
      "8      2.5   16.0\n",
      "9     12.2   12.0\n",
      "10    10.4   12.0\n",
      "11    14.0   16.4\n",
      "12    13.5   25.0\n",
      "13     8.0   14.0\n",
      "14    78.0   36.0\n",
      "15    95.0   10.0\n",
      "16  3574.0   20.0\n",
      "17    12.2   14.0\n",
      "18    23.0   15.4\n",
      "19    76.0   13.5\n",
      "20    90.0   10.5\n",
      "21    10.1   29.0\n",
      "22    29.0   35.0\n",
      "23    58.0   12.0\n"
     ]
    }
   ],
   "source": [
    "print(X)"
   ]
  },
  {
   "cell_type": "code",
   "execution_count": 25,
   "id": "e500b529",
   "metadata": {},
   "outputs": [
    {
     "name": "stdout",
     "output_type": "stream",
     "text": [
      "0        7.0\n",
      "1       13.0\n",
      "2        5.0\n",
      "3       10.0\n",
      "4       17.0\n",
      "5       18.0\n",
      "6       39.0\n",
      "7       26.2\n",
      "8       18.5\n",
      "9       24.2\n",
      "10      22.4\n",
      "11      30.4\n",
      "12      38.5\n",
      "13      22.0\n",
      "14     114.0\n",
      "15     105.0\n",
      "16    3594.0\n",
      "17      26.2\n",
      "18      38.4\n",
      "19      89.5\n",
      "20     100.5\n",
      "21      39.1\n",
      "22      64.0\n",
      "23      70.0\n",
      "Name: sum, dtype: float64\n"
     ]
    }
   ],
   "source": [
    "print(Y)"
   ]
  },
  {
   "cell_type": "code",
   "execution_count": 26,
   "id": "4a879854",
   "metadata": {},
   "outputs": [],
   "source": [
    "X_train, X_test, Y_train, Y_test = train_test_split(X, Y, test_size = 0.33, random_state = 2)"
   ]
  },
  {
   "cell_type": "code",
   "execution_count": 27,
   "id": "2e27d0c3",
   "metadata": {},
   "outputs": [
    {
     "name": "stdout",
     "output_type": "stream",
     "text": [
      "(24, 2) (16, 2) (8, 2)\n"
     ]
    }
   ],
   "source": [
    "print(X.shape, X_train.shape, X_test.shape)"
   ]
  },
  {
   "cell_type": "code",
   "execution_count": null,
   "id": "7735b0da",
   "metadata": {},
   "outputs": [],
   "source": [
    "# Model"
   ]
  },
  {
   "cell_type": "code",
   "execution_count": 28,
   "id": "6cecc1eb",
   "metadata": {},
   "outputs": [],
   "source": [
    "model = LinearRegression()"
   ]
  },
  {
   "cell_type": "code",
   "execution_count": 29,
   "id": "01c554b4",
   "metadata": {},
   "outputs": [
    {
     "data": {
      "text/plain": [
       "LinearRegression()"
      ]
     },
     "execution_count": 29,
     "metadata": {},
     "output_type": "execute_result"
    }
   ],
   "source": [
    "model.fit(X_train,Y_train)"
   ]
  },
  {
   "cell_type": "code",
   "execution_count": null,
   "id": "35557ef6",
   "metadata": {},
   "outputs": [],
   "source": [
    "# Get the Accuracy"
   ]
  },
  {
   "cell_type": "code",
   "execution_count": 30,
   "id": "15c85fbf",
   "metadata": {},
   "outputs": [
    {
     "data": {
      "text/plain": [
       "1.0"
      ]
     },
     "execution_count": 30,
     "metadata": {},
     "output_type": "execute_result"
    }
   ],
   "source": [
    "model.score(X_train,Y_train)"
   ]
  },
  {
   "cell_type": "code",
   "execution_count": 31,
   "id": "f68b3ab6",
   "metadata": {},
   "outputs": [
    {
     "data": {
      "text/plain": [
       "1.0"
      ]
     },
     "execution_count": 31,
     "metadata": {},
     "output_type": "execute_result"
    }
   ],
   "source": [
    "model.score(X_test,Y_test)"
   ]
  },
  {
   "cell_type": "code",
   "execution_count": null,
   "id": "d7950017",
   "metadata": {},
   "outputs": [],
   "source": [
    "# Check for the prediction is correct or not"
   ]
  },
  {
   "cell_type": "code",
   "execution_count": 32,
   "id": "3006e4bc",
   "metadata": {},
   "outputs": [],
   "source": [
    "predict = model.predict(X_test)"
   ]
  },
  {
   "cell_type": "code",
   "execution_count": 33,
   "id": "a7659b97",
   "metadata": {},
   "outputs": [
    {
     "name": "stdout",
     "output_type": "stream",
     "text": [
      "[  39.1    7.    64.    39.   114.  3594.    10.    38.5]\n"
     ]
    }
   ],
   "source": [
    "print(predict)"
   ]
  },
  {
   "cell_type": "code",
   "execution_count": 34,
   "id": "f9c47c72",
   "metadata": {},
   "outputs": [
    {
     "data": {
      "text/html": [
       "<div>\n",
       "<style scoped>\n",
       "    .dataframe tbody tr th:only-of-type {\n",
       "        vertical-align: middle;\n",
       "    }\n",
       "\n",
       "    .dataframe tbody tr th {\n",
       "        vertical-align: top;\n",
       "    }\n",
       "\n",
       "    .dataframe thead th {\n",
       "        text-align: right;\n",
       "    }\n",
       "</style>\n",
       "<table border=\"1\" class=\"dataframe\">\n",
       "  <thead>\n",
       "    <tr style=\"text-align: right;\">\n",
       "      <th></th>\n",
       "      <th>Actual</th>\n",
       "      <th>Predicted</th>\n",
       "    </tr>\n",
       "  </thead>\n",
       "  <tbody>\n",
       "    <tr>\n",
       "      <th>21</th>\n",
       "      <td>39.1</td>\n",
       "      <td>39.1</td>\n",
       "    </tr>\n",
       "    <tr>\n",
       "      <th>0</th>\n",
       "      <td>7.0</td>\n",
       "      <td>7.0</td>\n",
       "    </tr>\n",
       "    <tr>\n",
       "      <th>22</th>\n",
       "      <td>64.0</td>\n",
       "      <td>64.0</td>\n",
       "    </tr>\n",
       "    <tr>\n",
       "      <th>6</th>\n",
       "      <td>39.0</td>\n",
       "      <td>39.0</td>\n",
       "    </tr>\n",
       "    <tr>\n",
       "      <th>14</th>\n",
       "      <td>114.0</td>\n",
       "      <td>114.0</td>\n",
       "    </tr>\n",
       "    <tr>\n",
       "      <th>16</th>\n",
       "      <td>3594.0</td>\n",
       "      <td>3594.0</td>\n",
       "    </tr>\n",
       "    <tr>\n",
       "      <th>3</th>\n",
       "      <td>10.0</td>\n",
       "      <td>10.0</td>\n",
       "    </tr>\n",
       "    <tr>\n",
       "      <th>12</th>\n",
       "      <td>38.5</td>\n",
       "      <td>38.5</td>\n",
       "    </tr>\n",
       "  </tbody>\n",
       "</table>\n",
       "</div>"
      ],
      "text/plain": [
       "    Actual  Predicted\n",
       "21    39.1       39.1\n",
       "0      7.0        7.0\n",
       "22    64.0       64.0\n",
       "6     39.0       39.0\n",
       "14   114.0      114.0\n",
       "16  3594.0     3594.0\n",
       "3     10.0       10.0\n",
       "12    38.5       38.5"
      ]
     },
     "execution_count": 34,
     "metadata": {},
     "output_type": "execute_result"
    }
   ],
   "source": [
    "checking = pd.DataFrame({'Actual':Y_test, 'Predicted':predict})\n",
    "checking"
   ]
  },
  {
   "cell_type": "code",
   "execution_count": null,
   "id": "1b57e196",
   "metadata": {},
   "outputs": [],
   "source": [
    "# It is all about Joblib "
   ]
  },
  {
   "cell_type": "code",
   "execution_count": 35,
   "id": "0e0024ad",
   "metadata": {},
   "outputs": [],
   "source": [
    "import joblib\n",
    "joblib.dump(model,'my_joblib')\n",
    "model = joblib.load('my_joblib')"
   ]
  },
  {
   "cell_type": "code",
   "execution_count": 36,
   "id": "d77c6d3a",
   "metadata": {},
   "outputs": [
    {
     "name": "stderr",
     "output_type": "stream",
     "text": [
      "C:\\Users\\91986\\anaconda3\\lib\\site-packages\\sklearn\\base.py:450: UserWarning: X does not have valid feature names, but LinearRegression was fitted with feature names\n",
      "  warnings.warn(\n"
     ]
    },
    {
     "data": {
      "text/plain": [
       "array([15.])"
      ]
     },
     "execution_count": 36,
     "metadata": {},
     "output_type": "execute_result"
    }
   ],
   "source": [
    "model.predict([[10,5]])"
   ]
  },
  {
   "cell_type": "code",
   "execution_count": null,
   "id": "cb9e8814",
   "metadata": {},
   "outputs": [],
   "source": [
    "# GUI (Tkinter)"
   ]
  },
  {
   "cell_type": "code",
   "execution_count": 101,
   "id": "2be7c256",
   "metadata": {},
   "outputs": [
    {
     "name": "stdout",
     "output_type": "stream",
     "text": [
      "hi\n"
     ]
    }
   ],
   "source": [
    "print(\"hi\")\n",
    "from tkinter import *\n",
    "import joblib\n",
    "win = Tk()\n",
    "win.geometry(\"300x200\")\n",
    "win.title('Addtion using ML')\n",
    "win.config(bg=\"Teal\")\n",
    "\n",
    "#function\n",
    "def fun():\n",
    "    val_1 = entry_1.get()\n",
    "    val_2 = entry_2.get()\n",
    "    model = joblib.load('my_joblib')\n",
    "    result = model.predict([[val_1,val_2]])\n",
    "    Label(win,text=\"Addition of 2 numbers are \",bg=\"Teal\").place(x=55,y=160)\n",
    "    Label(win,text=result,bg=\"Teal\").place(x=190,y=160)\n",
    "\n",
    "label = Label(win,text=\"Addition of Two numbers using ML\",bg=\"Teal\").place(x=50,y=10)\n",
    "label_1 = Label(win,text=\"Enter First Number:\",bg=\"Teal\").place(x=5,y=40)\n",
    "label_2 = Label(win,text=\"Enter Second Number:\",bg=\"Teal\").place(x=5,y=60)\n",
    "\n",
    "value_1 = IntVar()\n",
    "value_2 = IntVar()\n",
    "\n",
    "entry_1 = Entry(win, textvariable = value_1)\n",
    "entry_1.place(x=130,y=40)\n",
    "\n",
    "entry_2 = Entry(win, textvariable = value_2)\n",
    "entry_2.place(x=130,y=60)\n",
    "\n",
    "button = Button(win,text=\"PREDICT\",command=fun,bg=\"white\")\n",
    "button.place(x=95,y=110)\n",
    "\n",
    "\n",
    "win.mainloop()"
   ]
  }
 ],
 "metadata": {
  "kernelspec": {
   "display_name": "Python 3 (ipykernel)",
   "language": "python",
   "name": "python3"
  },
  "language_info": {
   "codemirror_mode": {
    "name": "ipython",
    "version": 3
   },
   "file_extension": ".py",
   "mimetype": "text/x-python",
   "name": "python",
   "nbconvert_exporter": "python",
   "pygments_lexer": "ipython3",
   "version": "3.9.12"
  }
 },
 "nbformat": 4,
 "nbformat_minor": 5
}
